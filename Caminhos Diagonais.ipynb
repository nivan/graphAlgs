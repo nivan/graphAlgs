{
 "cells": [
  {
   "cell_type": "code",
   "execution_count": 93,
   "metadata": {},
   "outputs": [],
   "source": [
    "h        = 2\n",
    "numPaths = 2*h\n",
    "modulo   = 4*h\n",
    "paths    = []"
   ]
  },
  {
   "cell_type": "code",
   "execution_count": 94,
   "metadata": {},
   "outputs": [],
   "source": [
    "def step(x,h,m):\n",
    "    return (x+h)%m\n",
    "\n",
    "def processEntry(entry, h, m):\n",
    "    return [step(t,h,m) for t in entry]\n",
    "\n",
    "def interpolateEntries(h):\n",
    "    #\n",
    "    numNewEntries = 8*h-2\n",
    "    first   = [1,2,4*h]\n",
    "    seed    = first + [3]\n",
    "    result  = [first,seed]\n",
    "    counter = 0\n",
    "    #\n",
    "    for t in range(4*h-4):\n",
    "        newEntry = [t for t in result[-1]]\n",
    "        if counter % 2 == 0:\n",
    "            newEntry[1] = (newEntry[1] + 2)%(4*h)\n",
    "        else:\n",
    "            newEntry[3] = (newEntry[3] + 2)%(4*h)\n",
    "        result.append(newEntry)\n",
    "        counter+=1\n",
    "    #\n",
    "    mid1 = [1,4*h,4*h-1]\n",
    "    result.append(mid1)\n",
    "    ##########################\n",
    "    #\n",
    "    mid2    = [1,4*h,2]\n",
    "    result.append(mid2)\n",
    "    seed    = mid2 + [4*h-1]\n",
    "    result.append(seed)\n",
    "    counter = 0\n",
    "    for t in range(4*h-4):\n",
    "        newEntry = [t for t in result[-1]]\n",
    "        if counter % 2 == 0:\n",
    "            newEntry[1] = (newEntry[1] - 2)%(4*h)\n",
    "        else:\n",
    "            newEntry[3] = (newEntry[3] - 2)%(4*h)\n",
    "        result.append(newEntry)\n",
    "        counter+=1\n",
    "    \n",
    "    #\n",
    "    last = [1,2,3]\n",
    "    result.append(last)\n",
    "    \n",
    "    return result\n",
    "        \n"
   ]
  },
  {
   "cell_type": "code",
   "execution_count": 95,
   "metadata": {
    "scrolled": true
   },
   "outputs": [
    {
     "data": {
      "text/plain": [
       "[[1, 2, 8],\n",
       " [1, 2, 8, 3],\n",
       " [1, 4, 8, 3],\n",
       " [1, 4, 8, 5],\n",
       " [1, 6, 8, 5],\n",
       " [1, 6, 8, 7],\n",
       " [1, 8, 7],\n",
       " [1, 8, 2],\n",
       " [1, 8, 2, 7],\n",
       " [1, 6, 2, 7],\n",
       " [1, 6, 2, 5],\n",
       " [1, 4, 2, 5],\n",
       " [1, 4, 2, 3],\n",
       " [1, 2, 3]]"
      ]
     },
     "execution_count": 95,
     "metadata": {},
     "output_type": "execute_result"
    }
   ],
   "source": [
    "interpolateEntries(h)"
   ]
  },
  {
   "cell_type": "code",
   "execution_count": 96,
   "metadata": {},
   "outputs": [
    {
     "name": "stdout",
     "output_type": "stream",
     "text": [
      "caminho 0 :\n",
      "   [1, 2, 8]\n",
      "   [1, 2, 8, 3]\n",
      "   [1, 4, 8, 3]\n",
      "   [1, 4, 8, 5]\n",
      "   [1, 6, 8, 5]\n",
      "   [1, 6, 8, 7]\n",
      "   [1, 8, 7]\n",
      "   [1, 8, 2]\n",
      "   [1, 8, 2, 7]\n",
      "   [1, 6, 2, 7]\n",
      "   [1, 6, 2, 5]\n",
      "   [1, 4, 2, 5]\n",
      "   [1, 4, 2, 3]\n",
      "   [1, 2, 3]\n",
      "caminho 1 :\n",
      "   [3, 4, 2]\n",
      "   [3, 4, 2, 5]\n",
      "   [3, 6, 2, 5]\n",
      "   [3, 6, 2, 7]\n",
      "   [3, 0, 2, 7]\n",
      "   [3, 0, 2, 1]\n",
      "   [3, 2, 1]\n",
      "   [3, 2, 4]\n",
      "   [3, 2, 4, 1]\n",
      "   [3, 0, 4, 1]\n",
      "   [3, 0, 4, 7]\n",
      "   [3, 6, 4, 7]\n",
      "   [3, 6, 4, 5]\n",
      "   [3, 4, 5]\n",
      "caminho 2 :\n",
      "   [5, 6, 4]\n",
      "   [5, 6, 4, 7]\n",
      "   [5, 0, 4, 7]\n",
      "   [5, 0, 4, 1]\n",
      "   [5, 2, 4, 1]\n",
      "   [5, 2, 4, 3]\n",
      "   [5, 4, 3]\n",
      "   [5, 4, 6]\n",
      "   [5, 4, 6, 3]\n",
      "   [5, 2, 6, 3]\n",
      "   [5, 2, 6, 1]\n",
      "   [5, 0, 6, 1]\n",
      "   [5, 0, 6, 7]\n",
      "   [5, 6, 7]\n",
      "caminho 3 :\n",
      "   [7, 0, 6]\n",
      "   [7, 0, 6, 1]\n",
      "   [7, 2, 6, 1]\n",
      "   [7, 2, 6, 3]\n",
      "   [7, 4, 6, 3]\n",
      "   [7, 4, 6, 5]\n",
      "   [7, 6, 5]\n",
      "   [7, 6, 0]\n",
      "   [7, 6, 0, 5]\n",
      "   [7, 4, 0, 5]\n",
      "   [7, 4, 0, 3]\n",
      "   [7, 2, 0, 3]\n",
      "   [7, 2, 0, 1]\n",
      "   [7, 0, 1]\n"
     ]
    }
   ],
   "source": [
    "#primeiro caminho\n",
    "firstPath = interpolateEntries(h)\n",
    "paths = []\n",
    "paths.append(firstPath)\n",
    "#\n",
    "for i in range(1,numPaths):\n",
    "    prevPath = paths[i-1]\n",
    "    newPath = [processEntry(t,h,modulo) for t in prevPath]\n",
    "    paths.append(newPath)\n",
    "        \n",
    "#\n",
    "for i, p in enumerate(paths):\n",
    "    print('caminho',i,':')\n",
    "    for entry in p:\n",
    "        print('  ',entry)"
   ]
  },
  {
   "cell_type": "code",
   "execution_count": null,
   "metadata": {},
   "outputs": [],
   "source": []
  },
  {
   "cell_type": "code",
   "execution_count": null,
   "metadata": {},
   "outputs": [],
   "source": []
  }
 ],
 "metadata": {
  "kernelspec": {
   "display_name": "Python 3",
   "language": "python",
   "name": "python3"
  },
  "language_info": {
   "codemirror_mode": {
    "name": "ipython",
    "version": 3
   },
   "file_extension": ".py",
   "mimetype": "text/x-python",
   "name": "python",
   "nbconvert_exporter": "python",
   "pygments_lexer": "ipython3",
   "version": "3.7.1"
  }
 },
 "nbformat": 4,
 "nbformat_minor": 2
}
